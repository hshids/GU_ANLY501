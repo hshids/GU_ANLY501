{
 "cells": [
  {
   "cell_type": "code",
   "execution_count": 1,
   "metadata": {},
   "outputs": [],
   "source": [
    "from sklearn.naive_bayes import GaussianNB\n",
    "from sklearn.feature_extraction.text import CountVectorizer\n",
    "from sklearn.feature_extraction.text import TfidfVectorizer\n",
    "from nltk.stem import PorterStemmer\n",
    "import numpy as np\n",
    "import pandas as pd\n",
    "import os\n",
    "import re\n",
    "\n",
    "import warnings\n",
    "warnings.filterwarnings('ignore')"
   ]
  },
  {
   "cell_type": "code",
   "execution_count": 2,
   "metadata": {},
   "outputs": [
    {
     "name": "stdout",
     "output_type": "stream",
     "text": [
      "<class 'pandas.core.frame.DataFrame'>\n",
      "RangeIndex: 1411 entries, 0 to 1410\n",
      "Data columns (total 16 columns):\n",
      " #   Column         Non-Null Count  Dtype \n",
      "---  ------         --------------  ----- \n",
      " 0   text           1411 non-null   object\n",
      " 1   favorited      1397 non-null   object\n",
      " 2   favoriteCount  1397 non-null   object\n",
      " 3   replyToSN      190 non-null    object\n",
      " 4   created        1397 non-null   object\n",
      " 5   truncated      1397 non-null   object\n",
      " 6   replyToSID     179 non-null    object\n",
      " 7   id             1397 non-null   object\n",
      " 8   replyToUID     190 non-null    object\n",
      " 9   statusSource   1397 non-null   object\n",
      " 10  screenName     1397 non-null   object\n",
      " 11  retweetCount   1397 non-null   object\n",
      " 12  isRetweet      1397 non-null   object\n",
      " 13  retweeted      1397 non-null   object\n",
      " 14  longitude      14 non-null     object\n",
      " 15  latitude       14 non-null     object\n",
      "dtypes: object(16)\n",
      "memory usage: 176.5+ KB\n"
     ]
    },
    {
     "name": "stderr",
     "output_type": "stream",
     "text": [
      "b'Skipping line 100: expected 16 fields, saw 17\\nSkipping line 607: expected 16 fields, saw 17\\nSkipping line 616: expected 16 fields, saw 17\\nSkipping line 641: expected 16 fields, saw 17\\nSkipping line 645: expected 16 fields, saw 17\\nSkipping line 1047: expected 16 fields, saw 18\\nSkipping line 1384: expected 16 fields, saw 17\\n'\n"
     ]
    }
   ],
   "source": [
    "tweet_DF=pd.read_csv(\"~/Desktop/CLEAN/tweetdata.csv\", error_bad_lines=False)\n",
    "tweet_DF.head()\n",
    "tweet_DF.info()\n"
   ]
  },
  {
   "cell_type": "code",
   "execution_count": 3,
   "metadata": {},
   "outputs": [],
   "source": [
    "to_drop = [\"favoriteCount\", \"id\", \"statusSource\", \"longitude\", \"latitude\", \"replyToSID\",\"replyToUID\"]\n",
    "tweet_DF = tweet_DF.drop(to_drop, axis = 1)\n",
    "tweet_DF = tweet_DF.drop(\"replyToSN\", axis = 1)"
   ]
  },
  {
   "cell_type": "code",
   "execution_count": 4,
   "metadata": {},
   "outputs": [],
   "source": [
    "#pip install emoji"
   ]
  },
  {
   "cell_type": "code",
   "execution_count": 5,
   "metadata": {},
   "outputs": [],
   "source": [
    "\"\"\"\n",
    "Remove emojis\n",
    "\"\"\"\n",
    "tweet_DF = tweet_DF.astype(str).apply(lambda x: x.str.encode('ascii', 'ignore').str.decode('ascii'))\n",
    "tweet_DF = tweet_DF.drop_duplicates()"
   ]
  },
  {
   "cell_type": "code",
   "execution_count": 6,
   "metadata": {},
   "outputs": [],
   "source": [
    "def remove(text):\n",
    "    remove_chars = '[0-9!#$%&\\'()*+,-./:;<=>?@,?[]<>''![\\\\]^_`{|}~]+'\n",
    "    return re.sub(remove_chars, '', text)\n",
    "res = []"
   ]
  },
  {
   "cell_type": "code",
   "execution_count": 7,
   "metadata": {},
   "outputs": [],
   "source": [
    "My_Content_List=[\"text\"]\n",
    "My_Labels_List=[\"favoriteCount\"]"
   ]
  },
  {
   "cell_type": "code",
   "execution_count": 8,
   "metadata": {},
   "outputs": [],
   "source": [
    "MyCV_content=CountVectorizer(input='content',\n",
    "                        stop_words='english',\n",
    "                        #max_features=100\n",
    "                        )"
   ]
  },
  {
   "cell_type": "code",
   "execution_count": 9,
   "metadata": {},
   "outputs": [],
   "source": [
    "My_DTM2=MyCV_content.fit_transform(My_Content_List)"
   ]
  },
  {
   "cell_type": "code",
   "execution_count": 10,
   "metadata": {},
   "outputs": [
    {
     "name": "stdout",
     "output_type": "stream",
     "text": [
      "The vocab is:  ['text'] \n",
      "\n",
      "\n"
     ]
    }
   ],
   "source": [
    "ColNames=MyCV_content.get_feature_names()\n",
    "print(\"The vocab is: \", ColNames, \"\\n\\n\")"
   ]
  },
  {
   "cell_type": "code",
   "execution_count": 11,
   "metadata": {},
   "outputs": [],
   "source": [
    "My_DF_content=pd.DataFrame(My_DTM2.toarray(),columns=ColNames)"
   ]
  },
  {
   "cell_type": "code",
   "execution_count": 12,
   "metadata": {},
   "outputs": [
    {
     "name": "stdout",
     "output_type": "stream",
     "text": [
      "   text\n",
      "0     1\n"
     ]
    }
   ],
   "source": [
    "print(My_DF_content)"
   ]
  },
  {
   "cell_type": "code",
   "execution_count": 13,
   "metadata": {},
   "outputs": [
    {
     "name": "stdout",
     "output_type": "stream",
     "text": [
      "['favoriteCount']\n"
     ]
    }
   ],
   "source": [
    "print(My_Labels_List)"
   ]
  },
  {
   "cell_type": "code",
   "execution_count": 14,
   "metadata": {},
   "outputs": [],
   "source": [
    "My_DF_content.to_csv('MyClean_CSV_Data.csv', index=False)"
   ]
  },
  {
   "cell_type": "code",
   "execution_count": 15,
   "metadata": {},
   "outputs": [],
   "source": [
    "tweet_DF.to_csv('tweetclean.csv', index=False)"
   ]
  },
  {
   "cell_type": "code",
   "execution_count": null,
   "metadata": {},
   "outputs": [],
   "source": []
  }
 ],
 "metadata": {
  "kernelspec": {
   "display_name": "Python 3",
   "language": "python",
   "name": "python3"
  },
  "language_info": {
   "codemirror_mode": {
    "name": "ipython",
    "version": 3
   },
   "file_extension": ".py",
   "mimetype": "text/x-python",
   "name": "python",
   "nbconvert_exporter": "python",
   "pygments_lexer": "ipython3",
   "version": "3.7.6"
  }
 },
 "nbformat": 4,
 "nbformat_minor": 4
}
